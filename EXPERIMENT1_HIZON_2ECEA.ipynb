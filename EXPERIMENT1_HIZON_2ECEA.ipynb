{
 "cells": [
  {
   "cell_type": "markdown",
   "id": "52006dea-0606-4ab5-bc1e-b77e5b96334f",
   "metadata": {},
   "source": [
    "# Python Experiment #1\r\n",
    "## Name: Kyle Adrienne S. Hizon\r\n",
    "## Section: 2ECE-A"
   ]
  },
  {
   "cell_type": "markdown",
   "id": "62a19988-6bb7-438f-9d85-f97267358d19",
   "metadata": {},
   "source": [
    "# PROBLEM 1: ALPHABET SOUP PROBLEM"
   ]
  },
  {
   "cell_type": "code",
   "execution_count": 4,
   "id": "2e06f781-a7c7-49c7-83ea-70de83917590",
   "metadata": {},
   "outputs": [
    {
     "name": "stdin",
     "output_type": "stream",
     "text": [
      "Please enter a word to be arranged in alphabetical order:  Adrienne\n"
     ]
    },
    {
     "data": {
      "text/plain": [
       "'Adeeinnr'"
      ]
     },
     "execution_count": 4,
     "metadata": {},
     "output_type": "execute_result"
    }
   ],
   "source": [
    "# Create a function named \"alphabet_soup\"\n",
    "def alphabet_soup(input_word):\n",
    "\n",
    "    # The sorted function will sort each letter inside the index of the variable input_word in alphabetical order\n",
    "    input_word = sorted(input_word)\n",
    "\n",
    "    # The join function will conjoin each letters inside the array into one string of text \n",
    "    soup_word = \"\".join(input_word)\n",
    "\n",
    "    # This will return the value of the new word that is formed\n",
    "    return soup_word\n",
    "\n",
    "# Inputting strings inside the variable input_word\n",
    "input_word = input(\"Please enter a word to be arranged in alphabetical order: \")\n",
    "\n",
    "# Using the alphabet_soup function with the variable input_word inside the initialization\n",
    "alphabet_soup(input_word)"
   ]
  },
  {
   "cell_type": "markdown",
   "id": "59357995-7670-46ae-81a7-6aa05f44c52c",
   "metadata": {},
   "source": [
    "# PROBLEM 2: EMOTICON PROBLEM"
   ]
  },
  {
   "cell_type": "code",
   "execution_count": 11,
   "id": "8855241a-c1c6-4bc5-9a58-15169f6f0601",
   "metadata": {},
   "outputs": [
    {
     "name": "stdin",
     "output_type": "stream",
     "text": [
      "Please input a sentence to emotify:  Kyle is sad\n"
     ]
    },
    {
     "data": {
      "text/plain": [
       "'Kyle is :(('"
      ]
     },
     "execution_count": 11,
     "metadata": {},
     "output_type": "execute_result"
    }
   ],
   "source": [
    "# Create a function named \"emotify\"\n",
    "def emotify(text):\n",
    "\n",
    "    # The words will be replaced with the following emoticons based on their text\n",
    "    word = text.replace(\"smile\", \":)\")\n",
    "    word = word.replace(\"grin\", \":D\")\n",
    "    word = word.replace(\"sad\", \":((\")\n",
    "    word = word.replace(\"mad\", \">:(\")\n",
    "\n",
    "    # This will return the value with the replaced text above\n",
    "    return word\n",
    "\n",
    "# Inputting strings inside the variable sentence\n",
    "sentence = input(\"Please input a sentence to emotify: \")\n",
    "\n",
    "# Using the emotify function with the sentence inside the initialization\n",
    "emotify(sentence)"
   ]
  },
  {
   "cell_type": "markdown",
   "id": "4bb44835-248f-4f5d-88c7-a52208cef364",
   "metadata": {},
   "source": [
    "# PROBLEM 3: UNPACKING LIST PROBLEM"
   ]
  },
  {
   "cell_type": "code",
   "execution_count": 4,
   "id": "81954e8d-59a9-4cf2-b063-53d5ed7be86d",
   "metadata": {},
   "outputs": [
    {
     "name": "stdout",
     "output_type": "stream",
     "text": [
      "The variable first has: 1  The variable middle has: [2, 3, 4, 5]  The variable last has: 6\n"
     ]
    }
   ],
   "source": [
    "# Create a variable that has set of numbers\n",
    "Array_box = [1,2,3,4,5,6]\n",
    "\n",
    "# The variable first will have the number that is stored inside index 0 of the Array_box variable\n",
    "first = Array_box[0]\n",
    "\n",
    "# The variable middle will have the number that is stored everything inside except for index 0 and -1 of the Array_box variable\n",
    "middle = Array_box[1:-1]\n",
    "\n",
    "# The variable last will have the number that is stored inside last index of the Array_box variable\n",
    "last = Array_box[-1]\n",
    "\n",
    "# This will print the following variables alongside with their respective values\n",
    "print(\"The variable first has: \" + str(first), \" The variable middle has: \" + str(middle), \" The variable last has: \" + str(last))"
   ]
  }
 ],
 "metadata": {
  "kernelspec": {
   "display_name": "Python 3 (ipykernel)",
   "language": "python",
   "name": "python3"
  },
  "language_info": {
   "codemirror_mode": {
    "name": "ipython",
    "version": 3
   },
   "file_extension": ".py",
   "mimetype": "text/x-python",
   "name": "python",
   "nbconvert_exporter": "python",
   "pygments_lexer": "ipython3",
   "version": "3.12.4"
  }
 },
 "nbformat": 4,
 "nbformat_minor": 5
}
